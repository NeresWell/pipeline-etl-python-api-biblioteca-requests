{
 "cells": [
  {
   "cell_type": "code",
   "execution_count": null,
   "id": "858ee6aa-1dea-43d4-94d4-439d3e464a96",
   "metadata": {},
   "outputs": [],
   "source": [
    "# Fazendo a requisição para extrair dados do meu perfil de usuário do GitHub. Meu nome de usuário é \"millenagena\""
   ]
  },
  {
   "cell_type": "code",
   "execution_count": null,
   "id": "c29e3eb8-57a5-41a9-8453-247cc2fd6fce",
   "metadata": {},
   "outputs": [],
   "source": [
    "import requests\n",
    "\n",
    "r = requests.get('https://api.github.com/users/millenagena')\n",
    "r"
   ]
  },
  {
   "cell_type": "code",
   "execution_count": null,
   "id": "8f546d21-3617-4272-af4a-172c3d9b287f",
   "metadata": {},
   "outputs": [],
   "source": [
    "r.status_code"
   ]
  },
  {
   "cell_type": "code",
   "execution_count": null,
   "id": "961c7fe8-228a-4eee-9e72-a325e73906c5",
   "metadata": {},
   "outputs": [],
   "source": [
    "r.json()"
   ]
  },
  {
   "cell_type": "code",
   "execution_count": null,
   "id": "de95de40-b173-4223-a043-b5ce39efce5b",
   "metadata": {},
   "outputs": [],
   "source": [
    "r.text"
   ]
  },
  {
   "cell_type": "code",
   "execution_count": null,
   "id": "f5a5efb9-b19e-4e7b-9e0a-abe5b599549d",
   "metadata": {},
   "outputs": [],
   "source": [
    "r.url"
   ]
  },
  {
   "cell_type": "code",
   "execution_count": null,
   "id": "084d92bb-ad78-495c-8ac1-7b3e753877a3",
   "metadata": {},
   "outputs": [],
   "source": [
    "# Conferindo as informações sobre a requisição realizada utilizando o objeto Response retornado"
   ]
  },
  {
   "cell_type": "code",
   "execution_count": null,
   "id": "2face461-e9fa-46cd-b827-eebdaaa52ab9",
   "metadata": {},
   "outputs": [],
   "source": [
    "r.json()['name']"
   ]
  },
  {
   "cell_type": "code",
   "execution_count": null,
   "id": "960e0eb6-602e-4ed7-abb2-8b39026d6191",
   "metadata": {},
   "outputs": [],
   "source": [
    "r.json()['login']"
   ]
  },
  {
   "cell_type": "code",
   "execution_count": null,
   "id": "03366d0a-fabd-4823-b7ac-33c5bc7b6f1d",
   "metadata": {},
   "outputs": [],
   "source": [
    "r.json()['public_repos']"
   ]
  },
  {
   "cell_type": "code",
   "execution_count": null,
   "id": "d4cfda5a-0916-41fb-9974-f98ceeea5d15",
   "metadata": {},
   "outputs": [],
   "source": [
    "r.json()['created_at']"
   ]
  },
  {
   "cell_type": "code",
   "execution_count": null,
   "id": "07b6f35f-617e-4555-87e0-de71d2a216f0",
   "metadata": {},
   "outputs": [],
   "source": []
  },
  {
   "cell_type": "code",
   "execution_count": null,
   "id": "925ec630-c94b-468f-af9f-ad74e6e45f54",
   "metadata": {},
   "outputs": [],
   "source": [
    "import requests\n",
    "\n",
    "username = 'amzn'\n",
    "url = f\"https://api.github.com/users/{username}/followers\"\n",
    "\n",
    "# definindo o token e a versão da API\n",
    "access_token = 'seu_token'\n",
    "headers = {'Authorization': 'Bearer ' + access_token,\n",
    "           'X-GitHub-Api-Version': '2022-11-28'}\n",
    "\n",
    "page = 1\n",
    "followers_list = []\n",
    "\n",
    "while True: \n",
    "\n",
    "    # faz a requisição \n",
    "    url_page = f'{url}?page={page}'\n",
    "    response = requests.get(url_page, headers=headers)\n",
    "\n",
    "    # converte a resposta para um objeto JSON\n",
    "    followers = response.json()\n",
    "\n",
    "    # caso a lista esteja vazia, podemos sair do laço pois todos os dados foram extraidos\n",
    "    if len(followers)==0:\n",
    "        break\n",
    "\n",
    "    # adicionando os seguidores a lista\n",
    "    followers_list.append(followers)\n",
    "\n",
    "    # incrementa o valor de 'page' para a próxima requisição\n",
    "    page += 1"
   ]
  },
  {
   "cell_type": "code",
   "execution_count": null,
   "id": "5fb4de46-054c-4b06-98e4-066fdbd98197",
   "metadata": {},
   "outputs": [],
   "source": [
    "# criando uma lista vazia\n",
    "followers_name = []\n",
    "\n",
    "# percorrendo a lista com os dados dos seguidores e selecionando apenas o nome de usuário\n",
    "for page in followers_list:\n",
    "    for follower in page:\n",
    "        followers_name.append(follower['login'])\n",
    "\n",
    "# conferindo o tamanho da lista\n",
    "len(followers_name)"
   ]
  },
  {
   "cell_type": "code",
   "execution_count": null,
   "id": "0af1eaa0",
   "metadata": {},
   "outputs": [],
   "source": [
    "api_base_url = 'https://api.github.com'\n",
    "owner = 'amzn'\n",
    "repo = 'supply-chain-simulation-environment'\n",
    "\n",
    "url = f'{api_base_url}/repos/{owner}/{repo}/forks'\n",
    "url"
   ]
  },
  {
   "cell_type": "code",
   "execution_count": null,
   "id": "2a52caf4",
   "metadata": {},
   "outputs": [],
   "source": [
    "access_token = 'seu_token'\n",
    "headers = {'Authorization': 'Bearer ' + access_token,\n",
    "           'X-GitHub-Api-Version': '2022-11-28'}"
   ]
  },
  {
   "cell_type": "code",
   "execution_count": null,
   "id": "0f86d90c",
   "metadata": {},
   "outputs": [],
   "source": [
    "# enviando uma requisição POST para realizar o fork\n",
    "response = requests.post(url, headers=headers)\n",
    "\n",
    "# conferindo o status code da requisição\n",
    "print(f\"{response.status_code}\")"
   ]
  },
  {
   "cell_type": "code",
   "execution_count": null,
   "id": "baa12aa0",
   "metadata": {},
   "outputs": [],
   "source": [
    "# extraindo e salvando os dados dos repositorios da Apple\n",
    "apple_rep = DadosRepositorios('apple')\n",
    "ling_mais_usadas_apple = apple_rep.cria_df_linguagens()\n",
    "ling_mais_usadas_apple.to_csv('dados/linguagens_apple.csv')"
   ]
  },
  {
   "cell_type": "code",
   "execution_count": null,
   "id": "3a279371",
   "metadata": {},
   "outputs": [],
   "source": [
    "novo_repo.add_arquivo(nome_repo, 'linguagens_apple.csv', 'dados/linguagens_apple.csv')"
   ]
  }
 ],
 "metadata": {
  "kernelspec": {
   "display_name": "Python 3",
   "language": "python",
   "name": "python3"
  },
  "language_info": {
   "codemirror_mode": {
    "name": "ipython",
    "version": 3
   },
   "file_extension": ".py",
   "mimetype": "text/x-python",
   "name": "python",
   "nbconvert_exporter": "python",
   "pygments_lexer": "ipython3",
   "version": "3.12.7"
  }
 },
 "nbformat": 4,
 "nbformat_minor": 5
}
